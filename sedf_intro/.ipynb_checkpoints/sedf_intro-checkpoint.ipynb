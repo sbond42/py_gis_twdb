{
 "cells": [
  {
   "cell_type": "markdown",
   "id": "074e7d0b",
   "metadata": {},
   "source": [
    "# Introduction to the Spatially Enabled DataFrame"
   ]
  },
  {
   "cell_type": "markdown",
   "id": "a54b46a0",
   "metadata": {},
   "source": [
    "This notebook will introduce Esri's Spatially Enabled DataFrame structure, which is part of the ArcGIS API for Python. It's an extremely handy tool in certain situations, as it extends the Pandas DataFrame structure to add spatial capabilities. The GeoPandas package provides similar functionality, but it introduces varying levels of frustration depending on the environment you're trying to use it in. The ArcGIS API for Python (along with Pandas and ArcPy) is already conveniently installed in the default ArcGIS Pro Python environment. The Spatially Enabled DataFrame gives us access to some powerful data cleaning and analysis tools. Further, it integrates well with Jupyter Notebooks and gives us some decent visualization options completely outside the confines of ArcGIS Pro.\n",
    "\n",
    "*Note: For simplicity, this tutorial assumes you have access to the default ArcGIS Pro Python environment. This environment includes the ArcGIS API for Python, ArcPy, and Pandas, all of which we'll make use of. You can, however, use the Spatially Enabled DataFrame with a standard Python installation.  Installation instructions are at: https://developers.arcgis.com/python/guide/install-and-set-up/. You'll also need to install Pandas. Unlike most Esri products, the API for Python is freely available and doesn't require any sort of license. They assume you'll be using this with an ArcGIS Enterprise setup or ArcGIS Online, and they enforce this by requiring either access to ArcPy or authentication to ArcGIS Online or ArcGIS Enterprise. Read/write from/to feature classes is usually done with ArcPy, but it can be done with the pyshp package (shapely and fiona are also required) as long as you are able to authenticate somehow. This makes it possible to run in an environment without access to the typical ArcGIS Python installation.*"
   ]
  },
  {
   "cell_type": "markdown",
   "id": "bc60570c",
   "metadata": {},
   "source": [
    "## 1 Getting Started"
   ]
  },
  {
   "cell_type": "markdown",
   "id": "72674da2",
   "metadata": {},
   "source": [
    "We'll use the os module to deal with some file path stuff. The data_path variable should be set to wherever you've stored the data folder associated with this tutorial. If it's in the same folder as the tutorial notebook file, you shouldn't need to change anything:"
   ]
  },
  {
   "cell_type": "code",
   "execution_count": 1,
   "id": "67ec9c42",
   "metadata": {},
   "outputs": [],
   "source": [
    "import os\n",
    "\n",
    "data_path = \"Data\""
   ]
  },
  {
   "cell_type": "markdown",
   "id": "d8febd44",
   "metadata": {},
   "source": [
    "The foundation of most scripts that make use of the API is the `GIS` object from the `arcgis.gis` module. *(`import arcgis` would get us access to the whole API for Python, but that's not particularly useful for what we're doing here.)* This object represents a connection to a GIS portal. Using the `GIS()` constructor without passing any parameters into it creates an anonymous login to ArcGIS Online and restricts us to publicly available or local datasets (as long as we've got access to ArcPy as well). We'll need this for data visualization inside the notebook:"
   ]
  },
  {
   "cell_type": "code",
   "execution_count": 2,
   "id": "435d9628",
   "metadata": {},
   "outputs": [],
   "source": [
    "from arcgis.gis import GIS\n",
    "\n",
    "mygis = GIS()"
   ]
  },
  {
   "cell_type": "markdown",
   "id": "5a61abc9",
   "metadata": {},
   "source": [
    "We need to provide some authentication if we want to access resources from a specific data portal. We won't do that here, but plenty of examples can be found in the ArcGIS API for Python documentation: https://developers.arcgis.com/python/\n",
    "\n",
    "Let's use our `GIS` object to show a simple basemap:"
   ]
  },
  {
   "cell_type": "code",
   "execution_count": 3,
   "id": "d3449f0d",
   "metadata": {},
   "outputs": [
    {
     "data": {
      "application/vnd.jupyter.widget-view+json": {
       "model_id": "130b98c071eb4508a89e83dccc03d428",
       "version_major": 2,
       "version_minor": 0
      },
      "text/plain": [
       "MapView(layout=Layout(height='400px', width='100%'))"
      ]
     },
     "metadata": {},
     "output_type": "display_data"
    },
    {
     "data": {
      "text/html": [
       "<div class=\"map-static-img-preview-a4060a53-cec0-47d7-9865-df9944dfb9b0\"><img src=\"\"></img></div>"
      ],
      "text/plain": [
       "<IPython.core.display.HTML object>"
      ]
     },
     "metadata": {},
     "output_type": "display_data"
    },
    {
     "data": {
      "text/html": [
       "<div class=\"map-html-embed-preview-a4060a53-cec0-47d7-9865-df9944dfb9b0\"></div>"
      ],
      "text/plain": [
       "<IPython.core.display.HTML object>"
      ]
     },
     "metadata": {},
     "output_type": "display_data"
    }
   ],
   "source": [
    "mymap = mygis.map(\"USA\", zoomlevel=2)\n",
    "\n",
    "mymap.basemap = \"streets-vector\"\n",
    "\n",
    "mymap"
   ]
  },
  {
   "cell_type": "markdown",
   "id": "4c75e4a2",
   "metadata": {},
   "source": [
    "Ok, that's enough setup. Let's move on to..."
   ]
  },
  {
   "cell_type": "markdown",
   "id": "d60fde37",
   "metadata": {},
   "source": [
    "## 2 Reading and Visualizing Local Geospatial Data"
   ]
  },
  {
   "cell_type": "markdown",
   "id": "8f9f450e",
   "metadata": {},
   "source": [
    "A Spatially Enabled DataFrame adds the `spatial` namespace to the Pandas DataFrame to give it spatial capabilities. The Pandas DataFrame is a great way to handle tabular data using Python, and adding sptial capabilities means that it can make use of any geometries that might be associated with that tabular data. The Spatially Enabled DataFrame allows us to read and write spatial data formats, visualize spatial data, and perform geospatial operations on the data.\n",
    "\n",
    "*Another Note: Until recently, very similar functionality was available through something called Spatial DataFrames. These are still available for use but are not actively developed and have been effectively replaced by Spatially Enabled DataFrames.*\n",
    "\n",
    "Let's see what methods and attributes are available in the `spatial` namespace. We'll need to import the Pandas package to do this:"
   ]
  },
  {
   "cell_type": "code",
   "execution_count": 4,
   "id": "4f21458a",
   "metadata": {},
   "outputs": [
    {
     "data": {
      "text/plain": [
       "['_HASARCPY',\n",
       " '_HASSHAPELY',\n",
       " '__class__',\n",
       " '__delattr__',\n",
       " '__dict__',\n",
       " '__dir__',\n",
       " '__doc__',\n",
       " '__eq__',\n",
       " '__feature_set__',\n",
       " '__format__',\n",
       " '__ge__',\n",
       " '__geo_interface__',\n",
       " '__getattribute__',\n",
       " '__gt__',\n",
       " '__hash__',\n",
       " '__init__',\n",
       " '__init_subclass__',\n",
       " '__le__',\n",
       " '__lt__',\n",
       " '__module__',\n",
       " '__ne__',\n",
       " '__new__',\n",
       " '__reduce__',\n",
       " '__reduce_ex__',\n",
       " '__repr__',\n",
       " '__setattr__',\n",
       " '__sizeof__',\n",
       " '__str__',\n",
       " '__subclasshook__',\n",
       " '__weakref__',\n",
       " '_build_renderer',\n",
       " '_check_geometry_engine',\n",
       " '_data',\n",
       " '_index',\n",
       " '_kdtree',\n",
       " '_meta',\n",
       " '_name',\n",
       " '_renderer',\n",
       " '_repr_svg_',\n",
       " '_sfname',\n",
       " '_sindex',\n",
       " '_sr',\n",
       " '_stype',\n",
       " '_viz',\n",
       " 'area',\n",
       " 'bbox',\n",
       " 'centroid',\n",
       " 'distance_matrix',\n",
       " 'from_df',\n",
       " 'from_feather',\n",
       " 'from_featureclass',\n",
       " 'from_geodataframe',\n",
       " 'from_layer',\n",
       " 'from_table',\n",
       " 'from_xy',\n",
       " 'full_extent',\n",
       " 'geometry_type',\n",
       " 'has_m',\n",
       " 'has_z',\n",
       " 'join',\n",
       " 'length',\n",
       " 'name',\n",
       " 'overlay',\n",
       " 'plot',\n",
       " 'project',\n",
       " 'relationship',\n",
       " 'renderer',\n",
       " 'sanitize_column_names',\n",
       " 'select',\n",
       " 'set_geometry',\n",
       " 'sindex',\n",
       " 'sr',\n",
       " 'to_feature_collection',\n",
       " 'to_featureclass',\n",
       " 'to_featurelayer',\n",
       " 'to_featureset',\n",
       " 'to_table',\n",
       " 'true_centroid',\n",
       " 'validate',\n",
       " 'voronoi']"
      ]
     },
     "execution_count": 4,
     "metadata": {},
     "output_type": "execute_result"
    }
   ],
   "source": [
    "import pandas as pd\n",
    "from arcgis.features import GeoAccessor, GeoSeriesAccessor\n",
    "\n",
    "dir(pd.DataFrame.spatial)"
   ]
  },
  {
   "cell_type": "markdown",
   "id": "a40cc24b",
   "metadata": {},
   "source": [
    "Well, that's a lot of spatial-sounding stuff. Of particular interest, we see can a handful of methods that start with \"from_\". These allow us to import local data into the Spatially Enabled DataFrame format *(from here on out this will be referred to as SEDF because I don't want to type the full name any more)*. Let's import some data and see how this works:"
   ]
  },
  {
   "cell_type": "code",
   "execution_count": 5,
   "id": "225d3c46",
   "metadata": {},
   "outputs": [
    {
     "data": {
      "text/html": [
       "<div>\n",
       "<style scoped>\n",
       "    .dataframe tbody tr th:only-of-type {\n",
       "        vertical-align: middle;\n",
       "    }\n",
       "\n",
       "    .dataframe tbody tr th {\n",
       "        vertical-align: top;\n",
       "    }\n",
       "\n",
       "    .dataframe thead th {\n",
       "        text-align: right;\n",
       "    }\n",
       "</style>\n",
       "<table border=\"1\" class=\"dataframe\">\n",
       "  <thead>\n",
       "    <tr style=\"text-align: right;\">\n",
       "      <th></th>\n",
       "      <th>FID</th>\n",
       "      <th>Date</th>\n",
       "      <th>Time</th>\n",
       "      <th>Latitude</th>\n",
       "      <th>Longitude</th>\n",
       "      <th>Type</th>\n",
       "      <th>Depth</th>\n",
       "      <th>Depth_Erro</th>\n",
       "      <th>Depth_Seis</th>\n",
       "      <th>Magnitude</th>\n",
       "      <th>...</th>\n",
       "      <th>Azimuthal_</th>\n",
       "      <th>Horizontal</th>\n",
       "      <th>Horizont_1</th>\n",
       "      <th>Root_Mean_</th>\n",
       "      <th>ID</th>\n",
       "      <th>Source</th>\n",
       "      <th>Location_S</th>\n",
       "      <th>Magnitud_2</th>\n",
       "      <th>Status</th>\n",
       "      <th>SHAPE</th>\n",
       "    </tr>\n",
       "  </thead>\n",
       "  <tbody>\n",
       "    <tr>\n",
       "      <th>0</th>\n",
       "      <td>0</td>\n",
       "      <td>1965-01-02</td>\n",
       "      <td>13:44:18</td>\n",
       "      <td>19.2460</td>\n",
       "      <td>145.6160</td>\n",
       "      <td>Earthquake</td>\n",
       "      <td>131.60</td>\n",
       "      <td></td>\n",
       "      <td></td>\n",
       "      <td>6.0</td>\n",
       "      <td>...</td>\n",
       "      <td></td>\n",
       "      <td></td>\n",
       "      <td></td>\n",
       "      <td></td>\n",
       "      <td>ISCGEM860706</td>\n",
       "      <td>ISCGEM</td>\n",
       "      <td>ISCGEM</td>\n",
       "      <td>ISCGEM</td>\n",
       "      <td>Automatic</td>\n",
       "      <td>{\"x\": 145.6160000000001, \"y\": 19.2460000000000...</td>\n",
       "    </tr>\n",
       "    <tr>\n",
       "      <th>1</th>\n",
       "      <td>1</td>\n",
       "      <td>1965-01-04</td>\n",
       "      <td>11:29:49</td>\n",
       "      <td>1.8630</td>\n",
       "      <td>127.3520</td>\n",
       "      <td>Earthquake</td>\n",
       "      <td>80.00</td>\n",
       "      <td></td>\n",
       "      <td></td>\n",
       "      <td>5.8</td>\n",
       "      <td>...</td>\n",
       "      <td></td>\n",
       "      <td></td>\n",
       "      <td></td>\n",
       "      <td></td>\n",
       "      <td>ISCGEM860737</td>\n",
       "      <td>ISCGEM</td>\n",
       "      <td>ISCGEM</td>\n",
       "      <td>ISCGEM</td>\n",
       "      <td>Automatic</td>\n",
       "      <td>{\"x\": 127.35200000000009, \"y\": 1.8630000000000...</td>\n",
       "    </tr>\n",
       "    <tr>\n",
       "      <th>2</th>\n",
       "      <td>2</td>\n",
       "      <td>1965-01-05</td>\n",
       "      <td>18:05:58</td>\n",
       "      <td>-20.5790</td>\n",
       "      <td>-173.9720</td>\n",
       "      <td>Earthquake</td>\n",
       "      <td>20.00</td>\n",
       "      <td></td>\n",
       "      <td></td>\n",
       "      <td>6.2</td>\n",
       "      <td>...</td>\n",
       "      <td></td>\n",
       "      <td></td>\n",
       "      <td></td>\n",
       "      <td></td>\n",
       "      <td>ISCGEM860762</td>\n",
       "      <td>ISCGEM</td>\n",
       "      <td>ISCGEM</td>\n",
       "      <td>ISCGEM</td>\n",
       "      <td>Automatic</td>\n",
       "      <td>{\"x\": -173.97199999999998, \"y\": -20.5789999999...</td>\n",
       "    </tr>\n",
       "    <tr>\n",
       "      <th>3</th>\n",
       "      <td>3</td>\n",
       "      <td>1965-01-08</td>\n",
       "      <td>18:49:43</td>\n",
       "      <td>-59.0760</td>\n",
       "      <td>-23.5570</td>\n",
       "      <td>Earthquake</td>\n",
       "      <td>15.00</td>\n",
       "      <td></td>\n",
       "      <td></td>\n",
       "      <td>5.8</td>\n",
       "      <td>...</td>\n",
       "      <td></td>\n",
       "      <td></td>\n",
       "      <td></td>\n",
       "      <td></td>\n",
       "      <td>ISCGEM860856</td>\n",
       "      <td>ISCGEM</td>\n",
       "      <td>ISCGEM</td>\n",
       "      <td>ISCGEM</td>\n",
       "      <td>Automatic</td>\n",
       "      <td>{\"x\": -23.55699999999996, \"y\": -59.07599999999...</td>\n",
       "    </tr>\n",
       "    <tr>\n",
       "      <th>4</th>\n",
       "      <td>4</td>\n",
       "      <td>1965-01-09</td>\n",
       "      <td>13:32:50</td>\n",
       "      <td>11.9380</td>\n",
       "      <td>126.4270</td>\n",
       "      <td>Earthquake</td>\n",
       "      <td>15.00</td>\n",
       "      <td></td>\n",
       "      <td></td>\n",
       "      <td>5.8</td>\n",
       "      <td>...</td>\n",
       "      <td></td>\n",
       "      <td></td>\n",
       "      <td></td>\n",
       "      <td></td>\n",
       "      <td>ISCGEM860890</td>\n",
       "      <td>ISCGEM</td>\n",
       "      <td>ISCGEM</td>\n",
       "      <td>ISCGEM</td>\n",
       "      <td>Automatic</td>\n",
       "      <td>{\"x\": 126.42700000000002, \"y\": 11.938000000000...</td>\n",
       "    </tr>\n",
       "    <tr>\n",
       "      <th>...</th>\n",
       "      <td>...</td>\n",
       "      <td>...</td>\n",
       "      <td>...</td>\n",
       "      <td>...</td>\n",
       "      <td>...</td>\n",
       "      <td>...</td>\n",
       "      <td>...</td>\n",
       "      <td>...</td>\n",
       "      <td>...</td>\n",
       "      <td>...</td>\n",
       "      <td>...</td>\n",
       "      <td>...</td>\n",
       "      <td>...</td>\n",
       "      <td>...</td>\n",
       "      <td>...</td>\n",
       "      <td>...</td>\n",
       "      <td>...</td>\n",
       "      <td>...</td>\n",
       "      <td>...</td>\n",
       "      <td>...</td>\n",
       "      <td>...</td>\n",
       "    </tr>\n",
       "    <tr>\n",
       "      <th>23407</th>\n",
       "      <td>23407</td>\n",
       "      <td>2016-12-28</td>\n",
       "      <td>08:22:12</td>\n",
       "      <td>38.3917</td>\n",
       "      <td>-118.8941</td>\n",
       "      <td>Earthquake</td>\n",
       "      <td>12.30</td>\n",
       "      <td>1.2</td>\n",
       "      <td>40</td>\n",
       "      <td>5.6</td>\n",
       "      <td>...</td>\n",
       "      <td>42.47</td>\n",
       "      <td>0.12</td>\n",
       "      <td></td>\n",
       "      <td>0.1898</td>\n",
       "      <td>NN00570710</td>\n",
       "      <td>NN</td>\n",
       "      <td>NN</td>\n",
       "      <td>NN</td>\n",
       "      <td>Reviewed</td>\n",
       "      <td>{\"x\": -118.89409999999998, \"y\": 38.39170000000...</td>\n",
       "    </tr>\n",
       "    <tr>\n",
       "      <th>23408</th>\n",
       "      <td>23408</td>\n",
       "      <td>2016-12-28</td>\n",
       "      <td>09:13:47</td>\n",
       "      <td>38.3777</td>\n",
       "      <td>-118.8957</td>\n",
       "      <td>Earthquake</td>\n",
       "      <td>8.80</td>\n",
       "      <td>2</td>\n",
       "      <td>33</td>\n",
       "      <td>5.5</td>\n",
       "      <td>...</td>\n",
       "      <td>48.58</td>\n",
       "      <td>0.129</td>\n",
       "      <td></td>\n",
       "      <td>0.2187</td>\n",
       "      <td>NN00570744</td>\n",
       "      <td>NN</td>\n",
       "      <td>NN</td>\n",
       "      <td>NN</td>\n",
       "      <td>Reviewed</td>\n",
       "      <td>{\"x\": -118.89569999999998, \"y\": 38.37770000000...</td>\n",
       "    </tr>\n",
       "    <tr>\n",
       "      <th>23409</th>\n",
       "      <td>23409</td>\n",
       "      <td>2016-12-28</td>\n",
       "      <td>12:38:51</td>\n",
       "      <td>36.9179</td>\n",
       "      <td>140.4262</td>\n",
       "      <td>Earthquake</td>\n",
       "      <td>10.00</td>\n",
       "      <td>1.8</td>\n",
       "      <td></td>\n",
       "      <td>5.9</td>\n",
       "      <td>...</td>\n",
       "      <td>91</td>\n",
       "      <td>0.992</td>\n",
       "      <td>4.8</td>\n",
       "      <td>1.52</td>\n",
       "      <td>US10007NAF</td>\n",
       "      <td>US</td>\n",
       "      <td>US</td>\n",
       "      <td>US</td>\n",
       "      <td>Reviewed</td>\n",
       "      <td>{\"x\": 140.4262000000001, \"y\": 36.9179000000000...</td>\n",
       "    </tr>\n",
       "    <tr>\n",
       "      <th>23410</th>\n",
       "      <td>23410</td>\n",
       "      <td>2016-12-29</td>\n",
       "      <td>22:30:19</td>\n",
       "      <td>-9.0283</td>\n",
       "      <td>118.6639</td>\n",
       "      <td>Earthquake</td>\n",
       "      <td>79.00</td>\n",
       "      <td>1.8</td>\n",
       "      <td></td>\n",
       "      <td>6.3</td>\n",
       "      <td>...</td>\n",
       "      <td>26</td>\n",
       "      <td>3.553</td>\n",
       "      <td>6</td>\n",
       "      <td>1.43</td>\n",
       "      <td>US10007NL0</td>\n",
       "      <td>US</td>\n",
       "      <td>US</td>\n",
       "      <td>US</td>\n",
       "      <td>Reviewed</td>\n",
       "      <td>{\"x\": 118.66390000000001, \"y\": -9.028299999999...</td>\n",
       "    </tr>\n",
       "    <tr>\n",
       "      <th>23411</th>\n",
       "      <td>23411</td>\n",
       "      <td>2016-12-30</td>\n",
       "      <td>20:08:28</td>\n",
       "      <td>37.3973</td>\n",
       "      <td>141.4103</td>\n",
       "      <td>Earthquake</td>\n",
       "      <td>11.94</td>\n",
       "      <td>2.2</td>\n",
       "      <td></td>\n",
       "      <td>5.5</td>\n",
       "      <td>...</td>\n",
       "      <td>97</td>\n",
       "      <td>0.681</td>\n",
       "      <td>4.5</td>\n",
       "      <td>0.91</td>\n",
       "      <td>US10007NTD</td>\n",
       "      <td>US</td>\n",
       "      <td>US</td>\n",
       "      <td>US</td>\n",
       "      <td>Reviewed</td>\n",
       "      <td>{\"x\": 141.41030000000012, \"y\": 37.397300000000...</td>\n",
       "    </tr>\n",
       "  </tbody>\n",
       "</table>\n",
       "<p>23412 rows × 23 columns</p>\n",
       "</div>"
      ],
      "text/plain": [
       "         FID       Date      Time  Latitude  Longitude        Type   Depth  \\\n",
       "0          0 1965-01-02  13:44:18   19.2460   145.6160  Earthquake  131.60   \n",
       "1          1 1965-01-04  11:29:49    1.8630   127.3520  Earthquake   80.00   \n",
       "2          2 1965-01-05  18:05:58  -20.5790  -173.9720  Earthquake   20.00   \n",
       "3          3 1965-01-08  18:49:43  -59.0760   -23.5570  Earthquake   15.00   \n",
       "4          4 1965-01-09  13:32:50   11.9380   126.4270  Earthquake   15.00   \n",
       "...      ...        ...       ...       ...        ...         ...     ...   \n",
       "23407  23407 2016-12-28  08:22:12   38.3917  -118.8941  Earthquake   12.30   \n",
       "23408  23408 2016-12-28  09:13:47   38.3777  -118.8957  Earthquake    8.80   \n",
       "23409  23409 2016-12-28  12:38:51   36.9179   140.4262  Earthquake   10.00   \n",
       "23410  23410 2016-12-29  22:30:19   -9.0283   118.6639  Earthquake   79.00   \n",
       "23411  23411 2016-12-30  20:08:28   37.3973   141.4103  Earthquake   11.94   \n",
       "\n",
       "      Depth_Erro Depth_Seis  Magnitude  ... Azimuthal_ Horizontal Horizont_1  \\\n",
       "0                                  6.0  ...                                    \n",
       "1                                  5.8  ...                                    \n",
       "2                                  6.2  ...                                    \n",
       "3                                  5.8  ...                                    \n",
       "4                                  5.8  ...                                    \n",
       "...          ...        ...        ...  ...        ...        ...        ...   \n",
       "23407        1.2         40        5.6  ...      42.47       0.12              \n",
       "23408          2         33        5.5  ...      48.58      0.129              \n",
       "23409        1.8                   5.9  ...         91      0.992        4.8   \n",
       "23410        1.8                   6.3  ...         26      3.553          6   \n",
       "23411        2.2                   5.5  ...         97      0.681        4.5   \n",
       "\n",
       "      Root_Mean_            ID  Source Location_S Magnitud_2     Status  \\\n",
       "0                 ISCGEM860706  ISCGEM     ISCGEM     ISCGEM  Automatic   \n",
       "1                 ISCGEM860737  ISCGEM     ISCGEM     ISCGEM  Automatic   \n",
       "2                 ISCGEM860762  ISCGEM     ISCGEM     ISCGEM  Automatic   \n",
       "3                 ISCGEM860856  ISCGEM     ISCGEM     ISCGEM  Automatic   \n",
       "4                 ISCGEM860890  ISCGEM     ISCGEM     ISCGEM  Automatic   \n",
       "...          ...           ...     ...        ...        ...        ...   \n",
       "23407     0.1898    NN00570710      NN         NN         NN   Reviewed   \n",
       "23408     0.2187    NN00570744      NN         NN         NN   Reviewed   \n",
       "23409       1.52    US10007NAF      US         US         US   Reviewed   \n",
       "23410       1.43    US10007NL0      US         US         US   Reviewed   \n",
       "23411       0.91    US10007NTD      US         US         US   Reviewed   \n",
       "\n",
       "                                                   SHAPE  \n",
       "0      {\"x\": 145.6160000000001, \"y\": 19.2460000000000...  \n",
       "1      {\"x\": 127.35200000000009, \"y\": 1.8630000000000...  \n",
       "2      {\"x\": -173.97199999999998, \"y\": -20.5789999999...  \n",
       "3      {\"x\": -23.55699999999996, \"y\": -59.07599999999...  \n",
       "4      {\"x\": 126.42700000000002, \"y\": 11.938000000000...  \n",
       "...                                                  ...  \n",
       "23407  {\"x\": -118.89409999999998, \"y\": 38.39170000000...  \n",
       "23408  {\"x\": -118.89569999999998, \"y\": 38.37770000000...  \n",
       "23409  {\"x\": 140.4262000000001, \"y\": 36.9179000000000...  \n",
       "23410  {\"x\": 118.66390000000001, \"y\": -9.028299999999...  \n",
       "23411  {\"x\": 141.41030000000012, \"y\": 37.397300000000...  \n",
       "\n",
       "[23412 rows x 23 columns]"
      ]
     },
     "execution_count": 5,
     "metadata": {},
     "output_type": "execute_result"
    }
   ],
   "source": [
    "eqpath = os.path.join(data_path, \"earthquakes.shp\")\n",
    "\n",
    "sedf = pd.DataFrame.spatial.from_featureclass(eqpath)\n",
    "\n",
    "sedf"
   ]
  },
  {
   "cell_type": "markdown",
   "id": "99c2f3e8",
   "metadata": {},
   "source": [
    "Let's take a look at the column info for this SEDF:"
   ]
  },
  {
   "cell_type": "code",
   "execution_count": null,
   "id": "8becb9d1",
   "metadata": {},
   "outputs": [],
   "source": [
    "sedf.info()"
   ]
  },
  {
   "cell_type": "markdown",
   "id": "d69c3656",
   "metadata": {},
   "source": [
    "We can see that we've got a geometry column, which is what makes the SEDF special (and spatial). We can also get spatial reference information:"
   ]
  },
  {
   "cell_type": "code",
   "execution_count": null,
   "id": "a3e7e8ef",
   "metadata": {},
   "outputs": [],
   "source": [
    "sedf.spatial.sr"
   ]
  },
  {
   "cell_type": "markdown",
   "id": "708e6a96",
   "metadata": {},
   "source": [
    "Now that we've got a Spatially Enabled DataFrame set up, we can go ahead and map it out:"
   ]
  },
  {
   "cell_type": "code",
   "execution_count": null,
   "id": "fb9021e4",
   "metadata": {},
   "outputs": [],
   "source": [
    "sedf.spatial.plot(mymap)"
   ]
  },
  {
   "cell_type": "markdown",
   "id": "85b7a294",
   "metadata": {},
   "source": [
    "You may have realized that the layer was added to the map cell up above. We specified that we wanted it to show up in the \"mymap\" map widget, so it did just that. If we want to add data to a new map, we need to create a new map.\n",
    "\n",
    "You have also noted that it looked like trash. We can do a few things to fix this. The `plot` method has quite a few optional parameters for specifying how we want our map to look. It uses a mix of esri and matplotlib syntax and the documentation leaves a bit to be desired, but it generally works: "
   ]
  },
  {
   "cell_type": "code",
   "execution_count": null,
   "id": "013e9e05",
   "metadata": {},
   "outputs": [],
   "source": [
    "eqmap = mygis.map(\"USA\", zoomlevel=3)\n",
    "\n",
    "sedf.spatial.plot(map_widget=eqmap,\n",
    "                  renderer_type='c',\n",
    "                  method='esriClassifyNaturalBreaks',\n",
    "                  class_count= 10,\n",
    "                  col='Magnitude',\n",
    "                  marker_size=8,\n",
    "                  line_width=0.5,\n",
    "                  cmap='Reds')\n",
    "\n",
    "eqmap"
   ]
  },
  {
   "cell_type": "markdown",
   "id": "d16ffed6",
   "metadata": {},
   "source": [
    "That's a bit better. Not great, but we're not here to learn cartography. Let's move on to some slightly more interesting things.  "
   ]
  },
  {
   "cell_type": "markdown",
   "id": "3e308bd2",
   "metadata": {},
   "source": [
    "## 3 Data Cleaning and Analysis"
   ]
  },
  {
   "cell_type": "markdown",
   "id": "2623cda2",
   "metadata": {},
   "source": [
    "Spatial data visualization inside of a notebook is pretty neat, but it wouldn't be worth much if we couldn't work with the data in a meaningful way. Fortunately, a SEDF is a Pandas DataFrame at its core, so we can do all kinds of useful stuff. The earthquake data above is a bit messy, so let's start by cleaning it up a bit. The index and the FID are columns are duplicates, so let's make the FID column the index:"
   ]
  },
  {
   "cell_type": "code",
   "execution_count": null,
   "id": "1727490c",
   "metadata": {},
   "outputs": [],
   "source": [
    "sedf.set_index([\"FID\"], inplace=True)\n",
    "\n",
    "sedf.head()"
   ]
  },
  {
   "cell_type": "markdown",
   "id": "39cfde53",
   "metadata": {},
   "source": [
    "We also can't see all the columns in the DataFrame, so let's change that. The code below sets a global option for Pandas, so it will work for all DataFrames displayed from here on out. If you've got a huge number of columns, you might want to be more careful with this:"
   ]
  },
  {
   "cell_type": "code",
   "execution_count": null,
   "id": "554c2654",
   "metadata": {},
   "outputs": [],
   "source": [
    "pd.set_option('display.max_columns', None)\n",
    "\n",
    "sedf.head()"
   ]
  },
  {
   "cell_type": "markdown",
   "id": "e1fe9b44",
   "metadata": {},
   "source": [
    "Now we can see all the garbage columns that we might want to delete. Let's get rid of everything we don't want:"
   ]
  },
  {
   "cell_type": "code",
   "execution_count": null,
   "id": "654ef03b",
   "metadata": {},
   "outputs": [],
   "source": [
    "sedf.drop(columns=[\"Depth_Erro\", \n",
    "                   \"Depth_Seis\", \n",
    "                   \"Magnitude_\", \n",
    "                   \"Magnitude1\",\n",
    "                   \"Magnitud_1\",\n",
    "                   \"Azimuthal_\",\n",
    "                   \"Horizontal\",\n",
    "                   \"Horizont_1\",\n",
    "                   \"Root_Mean_\",\n",
    "                   \"Location_S\",\n",
    "                   \"Magnitud_2\"], inplace=True)\n",
    "\n",
    "sedf"
   ]
  },
  {
   "cell_type": "markdown",
   "id": "cf2b42d8",
   "metadata": {},
   "source": [
    "Ok, that looks much nicer. Let's explore the data a bit. Since this is Pandas under the hood, indexing works just like it does for a regular DataFrame. Here's a single feature:"
   ]
  },
  {
   "cell_type": "code",
   "execution_count": null,
   "id": "c4977da8",
   "metadata": {},
   "outputs": [],
   "source": [
    "sedf[sedf[\"ID\"]==\"UW10530748\"]"
   ]
  },
  {
   "cell_type": "markdown",
   "id": "9e9c39b0",
   "metadata": {},
   "source": [
    "Here's a set of features that match a condition:"
   ]
  },
  {
   "cell_type": "code",
   "execution_count": null,
   "id": "674a4047",
   "metadata": {},
   "outputs": [],
   "source": [
    "sedf[sedf[\"Magnitude\"]>=8]"
   ]
  },
  {
   "cell_type": "markdown",
   "id": "9217c860",
   "metadata": {},
   "source": [
    "Want to know the maximum magnitude value? We can get that as just the number or the whole associated feature:"
   ]
  },
  {
   "cell_type": "code",
   "execution_count": null,
   "id": "1c9483fa",
   "metadata": {},
   "outputs": [],
   "source": [
    "maxval = sedf[\"Magnitude\"].max()\n",
    "\n",
    "maxrow= sedf.loc[sedf[\"Magnitude\"].idxmax()]\n",
    "\n",
    "print(maxval)\n",
    "print(\"---------------\")\n",
    "print(maxrow)"
   ]
  },
  {
   "cell_type": "markdown",
   "id": "011913ab",
   "metadata": {},
   "source": [
    "What about plotting? Well, we can use matplotlib for more complex stuff, but a simple histogram can be done without any trouble:"
   ]
  },
  {
   "cell_type": "code",
   "execution_count": null,
   "id": "f554419e",
   "metadata": {},
   "outputs": [],
   "source": [
    "sedf.hist(column=\"Magnitude\")"
   ]
  },
  {
   "cell_type": "markdown",
   "id": "57f78182",
   "metadata": {},
   "source": [
    "Same with scatter plots:"
   ]
  },
  {
   "cell_type": "code",
   "execution_count": null,
   "id": "bf1db58d",
   "metadata": {},
   "outputs": [],
   "source": [
    "sedf.plot.scatter(x=\"Depth\", y=\"Magnitude\")"
   ]
  },
  {
   "cell_type": "markdown",
   "id": "6ce06e15",
   "metadata": {},
   "source": [
    "We can get all the unique values in a column:"
   ]
  },
  {
   "cell_type": "code",
   "execution_count": null,
   "id": "7ae79382",
   "metadata": {},
   "outputs": [],
   "source": [
    "sedf[\"Type\"].unique()"
   ]
  },
  {
   "cell_type": "markdown",
   "id": "8c39a366",
   "metadata": {},
   "source": [
    "Let's check out what's going on with nuclear explosions!"
   ]
  },
  {
   "cell_type": "code",
   "execution_count": null,
   "id": "40372749",
   "metadata": {},
   "outputs": [],
   "source": [
    "nukes = sedf[(sedf[\"Type\"]==\"Nuclear Explosion\") & (sedf[\"Date\"]>='11/09/1989')]\n",
    "\n",
    "nukes"
   ]
  },
  {
   "cell_type": "markdown",
   "id": "3b3a09cf",
   "metadata": {},
   "source": [
    "*We may need to run the code below if the code above doesn't work*"
   ]
  },
  {
   "cell_type": "code",
   "execution_count": null,
   "id": "3858b039",
   "metadata": {},
   "outputs": [],
   "source": [
    "nukes = sedf[\"Date\"] = pd.to_datetime(sedf[\"Date\"], format=\"%m/%d/%Y\", errors=\"coerce\")\n",
    "\n",
    "nukes"
   ]
  },
  {
   "cell_type": "markdown",
   "id": "d888378f",
   "metadata": {},
   "source": [
    "Looks like there are some similar lats and longs. Let's see who's doing all this testing:"
   ]
  },
  {
   "cell_type": "code",
   "execution_count": null,
   "id": "c803d19f",
   "metadata": {},
   "outputs": [],
   "source": [
    "nukemap = mygis.map(zoomlevel=1)\n",
    "\n",
    "nukemap.basemap = \"national-geographic\"\n",
    "\n",
    "nukes.spatial.plot(map_widget=nukemap,\n",
    "                  renderer_type='s',\n",
    "                  marker_size=10,\n",
    "                  line_width=0.5,\n",
    "                  cmap='Reds',\n",
    "                  cstop=50)\n",
    "\n",
    "nukemap"
   ]
  },
  {
   "cell_type": "markdown",
   "id": "200da6fe",
   "metadata": {},
   "source": [
    "## 4 Intersection"
   ]
  },
  {
   "cell_type": "markdown",
   "id": "24c260e1",
   "metadata": {},
   "source": [
    "Let's do some slightly more complex analysis. What if we want a list of all the earthquakes within 100 miles of Japan? We'll start by importing a shapefile of national boundaries:"
   ]
  },
  {
   "cell_type": "code",
   "execution_count": null,
   "id": "f0effb59",
   "metadata": {},
   "outputs": [],
   "source": [
    "country_path = os.path.join(data_path, \"World_Countries_Generalized.shp\")\n",
    "\n",
    "countries = pd.DataFrame.spatial.from_featureclass(country_path)\n",
    "\n",
    "countries.head()"
   ]
  },
  {
   "cell_type": "markdown",
   "id": "78ff19f2",
   "metadata": {},
   "source": [
    "Let's pull out Japan:"
   ]
  },
  {
   "cell_type": "code",
   "execution_count": null,
   "id": "c7b6b6d2",
   "metadata": {},
   "outputs": [],
   "source": [
    "countries[countries[\"COUNTRY\"]==\"Japan\"]"
   ]
  },
  {
   "cell_type": "markdown",
   "id": "7911ed79",
   "metadata": {},
   "source": [
    "We can take a look at that feature:"
   ]
  },
  {
   "cell_type": "code",
   "execution_count": null,
   "id": "1ac78e07",
   "metadata": {},
   "outputs": [],
   "source": [
    "countries.SHAPE[113]"
   ]
  },
  {
   "cell_type": "markdown",
   "id": "fd9a97c5",
   "metadata": {},
   "source": [
    "Yep, that's Japan. Let's do a little buffer trial run:"
   ]
  },
  {
   "cell_type": "code",
   "execution_count": null,
   "id": "fc8bf6a4",
   "metadata": {},
   "outputs": [],
   "source": [
    "countries.SHAPE[113].buffer(distance=100)"
   ]
  },
  {
   "cell_type": "markdown",
   "id": "e4c35782",
   "metadata": {},
   "source": [
    "Hmm. That's not what we want. We should at least be able see the general shape of the country. Let's see what's going on:"
   ]
  },
  {
   "cell_type": "code",
   "execution_count": null,
   "id": "741e0f9d",
   "metadata": {},
   "outputs": [],
   "source": [
    "countries.spatial.sr"
   ]
  },
  {
   "cell_type": "markdown",
   "id": "a8eb10a6",
   "metadata": {},
   "source": [
    "Ah, we're in WGS84 and the units are in degrees. The meaning of 100 units in this case is probably ambiguous and definitely not what we want. Let's try bringing it in with a different projection. We'll use UTM 54N (WKID 32654). Probably not perfect, but at least it's close and in meters:"
   ]
  },
  {
   "cell_type": "code",
   "execution_count": null,
   "id": "fae05eec",
   "metadata": {},
   "outputs": [],
   "source": [
    "from arcgis.geometry import SpatialReference\n",
    "\n",
    "countries_proj = pd.DataFrame.spatial.from_featureclass(country_path, sr=SpatialReference(32654).as_arcpy)\n",
    "\n",
    "countries_proj[countries_proj[\"COUNTRY\"]==\"Japan\"]"
   ]
  },
  {
   "cell_type": "markdown",
   "id": "f5fb9512",
   "metadata": {},
   "source": [
    "And the buffer..."
   ]
  },
  {
   "cell_type": "code",
   "execution_count": null,
   "id": "8605b304",
   "metadata": {},
   "outputs": [],
   "source": [
    "countries_proj.SHAPE[113].buffer(distance=160934)"
   ]
  },
  {
   "cell_type": "markdown",
   "id": "7bb170fe",
   "metadata": {},
   "source": [
    "Much better! Ok, let's make a SDEF that contains only this buffered feature:"
   ]
  },
  {
   "cell_type": "code",
   "execution_count": null,
   "id": "d0ac44aa",
   "metadata": {},
   "outputs": [],
   "source": [
    "japan = countries_proj[countries_proj[\"COUNTRY\"]==\"Japan\"].copy()\n",
    "\n",
    "japan"
   ]
  },
  {
   "cell_type": "markdown",
   "id": "1b1b0367",
   "metadata": {},
   "source": [
    "Now for the buffer. We'll do this by replacing the existing geometry:"
   ]
  },
  {
   "cell_type": "code",
   "execution_count": null,
   "id": "f670f8ca",
   "metadata": {},
   "outputs": [],
   "source": [
    "japan[\"SHAPE\"] = japan.SHAPE.geom.buffer(distance=160934)"
   ]
  },
  {
   "cell_type": "markdown",
   "id": "18368273",
   "metadata": {},
   "source": [
    "Checking the shape..."
   ]
  },
  {
   "cell_type": "code",
   "execution_count": null,
   "id": "12fd9255",
   "metadata": {},
   "outputs": [],
   "source": [
    "japan.SHAPE[113]"
   ]
  },
  {
   "cell_type": "markdown",
   "id": "6abe1ea3",
   "metadata": {},
   "source": [
    "The last step is to create a sort of query that gets everything that's not outside of our area of interest and apply that query to our earthquake SEDF:"
   ]
  },
  {
   "cell_type": "code",
   "execution_count": null,
   "id": "90b4d0b8",
   "metadata": {},
   "outputs": [],
   "source": [
    "japan_query = sedf.SHAPE.geom.disjoint(japan.SHAPE[113]) == False\n",
    "\n",
    "japan_quakes = quakes_proj[japan_query]\n",
    "\n",
    "japan_quakes"
   ]
  },
  {
   "cell_type": "markdown",
   "id": "23c16f0b",
   "metadata": {},
   "source": [
    "Mapping the results:"
   ]
  },
  {
   "cell_type": "code",
   "execution_count": null,
   "id": "8a04363e",
   "metadata": {},
   "outputs": [],
   "source": [
    "japanmap = mygis.map(\"Japan\", zoomlevel=4)\n",
    "\n",
    "japan.spatial.plot(map_widget=japanmap)\n",
    "\n",
    "japan_quakes.spatial.plot(map_widget=japanmap,\n",
    "                  renderer_type='c',\n",
    "                  method='esriClassifyNaturalBreaks',\n",
    "                  class_count= 10,\n",
    "                  col='Magnitude',\n",
    "                  marker_size=8,\n",
    "                  line_width=0.5,\n",
    "                  cmap='Reds')\n",
    "\n",
    "japanmap"
   ]
  },
  {
   "cell_type": "markdown",
   "id": "4067e32b",
   "metadata": {},
   "source": [
    "## 5 Writing SEDF to Feature Class"
   ]
  },
  {
   "cell_type": "markdown",
   "id": "a22a8d0f",
   "metadata": {},
   "source": [
    "Now that we've done all this data manipulation, let's save our results back out to a Shapefile:"
   ]
  },
  {
   "cell_type": "code",
   "execution_count": null,
   "id": "6ffb010f",
   "metadata": {},
   "outputs": [],
   "source": [
    "outfile = os.path.join(data_path, \"japan_quakes.shp\")\n",
    "\n",
    "japan_quakes.spatial.to_featureclass(outfile)"
   ]
  },
  {
   "cell_type": "markdown",
   "id": "ece230e3",
   "metadata": {},
   "source": [
    "##  6 More Information"
   ]
  },
  {
   "cell_type": "markdown",
   "id": "fb5ef769",
   "metadata": {},
   "source": [
    "This is only a small portion of what can be done with SEDFs and the ArcGIS API for Python. If you want to learn more, the Esri developer documentation (https://developers.arcgis.com/python/) is a good place to start. Even better, they have a GitHub repo with tons of examples (https://github.com/Esri/arcgis-python-api/tree/master). "
   ]
  }
 ],
 "metadata": {
  "kernelspec": {
   "display_name": "Python 3",
   "language": "python",
   "name": "python3"
  },
  "language_info": {
   "codemirror_mode": {
    "name": "ipython",
    "version": 3
   },
   "file_extension": ".py",
   "mimetype": "text/x-python",
   "name": "python",
   "nbconvert_exporter": "python",
   "pygments_lexer": "ipython3",
   "version": "3.9.11"
  }
 },
 "nbformat": 4,
 "nbformat_minor": 5
}
